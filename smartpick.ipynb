{
 "cells": [
  {
   "cell_type": "code",
   "execution_count": 5,
   "id": "a3b9cc27-6aaa-4eea-991f-9031e5c59777",
   "metadata": {},
   "outputs": [],
   "source": [
    "import pandas as pd\n",
    "import random\n",
    "\n",
    "# Base dataset\n",
    "data = [\n",
    "    {\"item\": \"Pencil\", \"category\": \"Stationery\"},\n",
    "    {\"item\": \"Highlighter\", \"category\": \"Stationery\"},\n",
    "    {\"item\": \"Wireless Earbuds\", \"category\": \"Electronics\"},\n",
    "    {\"item\": \"Tape\", \"category\": \"Stationery\"},\n",
    "    {\"item\": \"Laptop\", \"category\": \"Electronics\"},\n",
    "]\n",
    "\n",
    "# Assign random locations\n",
    "def generate_location():\n",
    "    aisle = random.choice(['A', 'B', 'C'])\n",
    "    row = random.randint(1, 5)\n",
    "    column = random.randint(1, 10)\n",
    "    return aisle, row, column\n",
    "\n",
    "# Add location columns\n",
    "for d in data:\n",
    "    aisle, row, col = generate_location()\n",
    "    d['aisle'] = aisle\n",
    "    d['row'] = row\n",
    "    d['column'] = col\n",
    "\n",
    "df = pd.DataFrame(data)\n"
   ]
  },
  {
   "cell_type": "code",
   "execution_count": 6,
   "id": "0a5c5cda-7b4f-40d9-9cc1-ee0ab404a47f",
   "metadata": {},
   "outputs": [],
   "source": [
    "reverse_index = {}\n",
    "for _, row in df.iterrows():\n",
    "    key = row['item'].lower()\n",
    "    reverse_index[key] = {\n",
    "        \"category\": row['category'],\n",
    "        \"aisle\": row['aisle'],\n",
    "        \"row\": row['row'],\n",
    "        \"column\": row['column']\n",
    "    }\n",
    "\n",
    "def find_item(item_name):\n",
    "    key = item_name.lower()\n",
    "    if key in reverse_index:\n",
    "        loc = reverse_index[key]\n",
    "        return f\"'{item_name}' is in {loc['category']} at Aisle {loc['aisle']}, Row {loc['row']}, Column {loc['column']}.\"\n",
    "    else:\n",
    "        return f\"'{item_name}' not found in store.\"\n"
   ]
  },
  {
   "cell_type": "code",
   "execution_count": 7,
   "id": "4bb3574e-688a-4fc5-9d8b-22ddf6c45e32",
   "metadata": {},
   "outputs": [],
   "source": [
    "def aisle_to_index(aisle):\n",
    "    return ord(aisle.upper()) - ord('A')\n",
    "\n",
    "def distance(p1, p2):\n",
    "    return abs(p1[0]-p2[0]) + abs(p1[1]-p2[1]) + abs(p1[2]-p2[2])\n",
    "\n",
    "def optimize_path(item_names):\n",
    "    selected = []\n",
    "    for name in item_names:\n",
    "        if name.lower() in reverse_index:\n",
    "            item = reverse_index[name.lower()].copy()\n",
    "            item['item_name'] = name\n",
    "            selected.append(item)\n",
    "\n",
    "    path = []\n",
    "    current = {'aisle': 'A', 'row': 0, 'column': 0}\n",
    "    \n",
    "    while selected:\n",
    "        current_coord = (aisle_to_index(current['aisle']), current['row'], current['column'])\n",
    "        nearest = min(selected, key=lambda item: distance(current_coord, (\n",
    "            aisle_to_index(item['aisle']), item['row'], item['column']\n",
    "        )))\n",
    "        path.append(nearest)\n",
    "        current = nearest\n",
    "        selected.remove(nearest)\n",
    "\n",
    "    return path\n"
   ]
  },
  {
   "cell_type": "code",
   "execution_count": 8,
   "id": "d58afa50-a797-4c7b-8f6f-ab87e330bba0",
   "metadata": {},
   "outputs": [
    {
     "name": "stdout",
     "output_type": "stream",
     "text": [
      "'Laptop' is in Electronics at Aisle C, Row 5, Column 2.\n",
      "'Tape' is in Stationery at Aisle B, Row 3, Column 8.\n",
      "'Wireless Earbuds' is in Electronics at Aisle C, Row 3, Column 6.\n",
      "\n",
      "Optimized Path:\n",
      "1. Pick 'Laptop' from Aisle C, Row 5, Column 2\n",
      "2. Pick 'Wireless Earbuds' from Aisle C, Row 3, Column 6\n",
      "3. Pick 'Tape' from Aisle B, Row 3, Column 8\n"
     ]
    }
   ],
   "source": [
    "query_items = [\"Laptop\", \"Tape\", \"Wireless Earbuds\"]\n",
    "\n",
    "# Print location info\n",
    "for item in query_items:\n",
    "    print(find_item(item))\n",
    "\n",
    "print(\"\\nOptimized Path:\")\n",
    "for i, item in enumerate(optimize_path(query_items), 1):\n",
    "    print(f\"{i}. Pick '{item['item_name']}' from Aisle {item['aisle']}, Row {item['row']}, Column {item['column']}\")\n"
   ]
  },
  {
   "cell_type": "code",
   "execution_count": null,
   "id": "6beb03de-bdf8-4b30-a01e-f9276d0d5503",
   "metadata": {},
   "outputs": [],
   "source": []
  }
 ],
 "metadata": {
  "kernelspec": {
   "display_name": "Python 3 (ipykernel)",
   "language": "python",
   "name": "python3"
  },
  "language_info": {
   "codemirror_mode": {
    "name": "ipython",
    "version": 3
   },
   "file_extension": ".py",
   "mimetype": "text/x-python",
   "name": "python",
   "nbconvert_exporter": "python",
   "pygments_lexer": "ipython3",
   "version": "3.13.5"
  }
 },
 "nbformat": 4,
 "nbformat_minor": 5
}
